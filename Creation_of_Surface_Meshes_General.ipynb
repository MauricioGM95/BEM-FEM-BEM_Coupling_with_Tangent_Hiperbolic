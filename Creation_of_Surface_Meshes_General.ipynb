{
 "cells": [
  {
   "cell_type": "markdown",
   "metadata": {},
   "source": [
    "# Creation of surface meshes in .off format"
   ]
  },
  {
   "cell_type": "markdown",
   "metadata": {},
   "source": [
    "First we import the main libraries such as Numpy, and we call the .py files to create the .off files."
   ]
  },
  {
   "cell_type": "code",
   "execution_count": null,
   "metadata": {},
   "outputs": [],
   "source": [
    "import numpy as np \n",
    "import time\n",
    "from Codigos_Adicionales import *\n",
    "from Codigos_BEM_y_FEM_Generalizadas import *"
   ]
  },
  {
   "cell_type": "markdown",
   "metadata": {},
   "source": [
    "### Creation of the .off file of the sphere in general"
   ]
  },
  {
   "cell_type": "code",
   "execution_count": null,
   "metadata": {},
   "outputs": [],
   "source": [
    "#Code to generate surface meshes.\n",
    "LG =  ['Sphere5','Sphere65','Sphere8']\n",
    "LG1 = ['R0','R1','R2','R3','R4']\n",
    "LG2 = [1,1.9,3.8,7.5,15]\n",
    "\n",
    "start = time.time()\n",
    "f1=open(\"Informacion_Mallas_Superficial_Esfera.txt\",\"w\")\n",
    "for i in range(len(LG)):\n",
    "    file = LG[i]  #filename in pqr text format. \n",
    "    for j in range(len(LG1)):\n",
    "        de = LG2[j]        #density(msms) or length(nanoshaper).\n",
    "        pr = 1.5           #test radio.\n",
    "        f = 'm'            #method to create the mesh 'm'(msms) or 'n'(nanoshaper).\n",
    "        FE = 'Sphere/PQR/'       #Path where the pqr is.\n",
    "        FS = 'Sphere/Mallas_S/'  #Path to save the mesh.\n",
    "        f0 = LG1[j]  #Name optional. If it is '', the txt is kept.\n",
    "        print(i,j,file,de)  \n",
    "        V1,E1 = MallaSuperficial(file,de,pr,f,FE,FS,f0)\n",
    "        f1.write(file+\" \"+str(de)+\" \"+str(V1)+\" \"+str(E1)+ \"\\n\")   \n",
    "f1.close()\n",
    "end = time.time()\n",
    "curr_time = (end - start)   \n",
    "print(\"Total program time: {:5.2f} [s]\".format(curr_time))"
   ]
  },
  {
   "cell_type": "markdown",
   "metadata": {},
   "source": [
    "### Creation of the .off file of the FreeSolv Database"
   ]
  },
  {
   "cell_type": "markdown",
   "metadata": {},
   "source": [
    "Case with molecules with MSMS."
   ]
  },
  {
   "cell_type": "code",
   "execution_count": null,
   "metadata": {},
   "outputs": [],
   "source": [
    "#Reading the text file.\n",
    "LG = []\n",
    "with open(\"Moleculas_Mobley_MSMS.txt\",\"r\") as f:\n",
    "    lines = f.readlines()\n",
    "for line in lines:\n",
    "    line = line.split()\n",
    "    LG.append(line[0])\n",
    "print(LG)\n",
    "\n",
    "#Code to generate surface meshes.\n",
    "start = time.time()\n",
    "LG1 = ['R3','R15','R0']\n",
    "f1=open(\"Informacion_Mallas_Superficiales_Mobley_Msms_D8.txt\",\"w\")\n",
    "for i in range(len(LG)):\n",
    "    file0 = LG[i]      \n",
    "    for j in range(len(LG1)):\n",
    "        file1 = LG1[j]\n",
    "        if file1=='R0':\n",
    "            txt=''\n",
    "        else:\n",
    "            txt=file1\n",
    "        file = file0+txt   #filename in pqr text format. \n",
    "        de = 8             #density(msms) or length(nanoshaper).\n",
    "        pr = 1.5           #test radio.\n",
    "        f = 'm'            #method to create the mesh 'm'(msms) or 'n'(nanoshaper).\n",
    "        FE = 'Mobley/PQR/'       #Path where the pqr is.\n",
    "        FS = 'Mobley/Mallas_S/'  #Path to save the mesh.\n",
    "        f0 = 'D'+str(de)   #Name optional. If it is '', the txt is kept.\n",
    "        print(i,file,de)  \n",
    "        V1,E1 = MallaSuperficial(file,de,pr,f,FE,FS,f0)\n",
    "        f1.write(file0+\" \"+file1+\" \"+str(de)+\" \"+str(V1)+\" \"+str(E1)+ \"\\n\")   \n",
    "f1.close()\n",
    "end = time.time()\n",
    "curr_time = (end - start)   \n",
    "print(\"Total program time: {:5.2f} [s]\".format(curr_time))"
   ]
  },
  {
   "cell_type": "markdown",
   "metadata": {},
   "source": [
    "Case with molecules with Nanoshaper."
   ]
  },
  {
   "cell_type": "code",
   "execution_count": null,
   "metadata": {},
   "outputs": [],
   "source": [
    "#Reading the text file.\n",
    "LG = []\n",
    "with open(\"Moleculas_Mobley_Nanoshaper.txt\",\"r\") as f:\n",
    "    lines = f.readlines()\n",
    "for line in lines:\n",
    "    line = line.split()\n",
    "    LG.append(line[0])\n",
    "print(LG)\n",
    "\n",
    "#Code to generate surface meshes.\n",
    "start = time.time()\n",
    "LG1 = ['R3','R15','R0']\n",
    "f1=open(\"Informacion_Mallas_Superficiales_Mobley_Nanoshaper_D8.txt\",\"w\")\n",
    "for i in range(len(LG)):\n",
    "    file0 = LG[i]      \n",
    "    for j in range(len(LG1)):\n",
    "        file1 = LG1[j]\n",
    "        if file1=='R0':\n",
    "            txt=''\n",
    "        else:\n",
    "            txt=file1\n",
    "        file = file0+txt   #filename in pqr text format. \n",
    "        de = 8             #density(msms) or length(nanoshaper).\n",
    "        pr = 1.5           #test radio.\n",
    "        f = 'n'            #method to create the mesh 'm'(msms) or 'n'(nanoshaper).\n",
    "        FE = 'Mobley/PQR/'       #Path where the pqr is.\n",
    "        FS = 'Mobley/Mallas_S/'  #Path to save the mesh.\n",
    "        f0 = 'D'+str(de)   #Name optional. If it is '', the txt is kept.\n",
    "        print(i,file,de)  \n",
    "        V1,E1 = MallaSuperficial(file,de,pr,f,FE,FS,f0)\n",
    "        f1.write(file0+\" \"+file1+\" \"+str(de)+\" \"+str(V1)+\" \"+str(E1)+ \"\\n\")   \n",
    "f1.close()\n",
    "end = time.time()\n",
    "curr_time = (end - start)   \n",
    "print(\"Total program time: {:5.2f} [s]\".format(curr_time))"
   ]
  },
  {
   "cell_type": "markdown",
   "metadata": {},
   "source": [
    "### Creation of the .off file of the complex and proteins for 1EMV, 1BRS, 1JTG, 1BEB and 1A3N"
   ]
  },
  {
   "cell_type": "code",
   "execution_count": null,
   "metadata": {},
   "outputs": [],
   "source": [
    "#Reading the text file.\n",
    "TG0 = ['1emvAmber','1brsAmber','1jtgAmber','1bebAmber','1a3nAmber']\n",
    "TG1 = ['','P1','P2']\n",
    "LG = []\n",
    "for i in range(len(TG0)):\n",
    "    for j in range(len(TG1)):\n",
    "        LG.append(TG0[i]+TG1[j])  \n",
    "\n",
    "#Code to generate surface meshes.\n",
    "start = time.time()\n",
    "LG1 = ['R3','R15','R0']\n",
    "f1=open(\"Informacion_Mallas_Superficiales_Moleculas_de_Union_1.txt\",\"w\")\n",
    "for i in range(len(LG)):\n",
    "    file0 = LG[i]      \n",
    "    for j in range(len(LG1)):\n",
    "        file1 = LG1[j]\n",
    "        if file1=='R0':\n",
    "            txt=''\n",
    "        else:\n",
    "            txt=file1  \n",
    "        file = file0+txt   #filename in pqr text format. \n",
    "        de = 8             #density(msms) or length(nanoshaper).\n",
    "        pr = 1.5           #test radio.\n",
    "        f = 'n'            #method to create the mesh 'm'(msms) or 'n'(nanoshaper).\n",
    "        FE = 'Binding_Energy/PQR/'       #Path where the pqr is.\n",
    "        FS = 'Binding_Energy/Mallas_S/'  #Path to save the mesh.\n",
    "        f0 = 'D'+str(de)   #Name optional. If it is '', the txt is kept.     \n",
    "        print(i,file,de)  \n",
    "        V1,E1 = MallaSuperficial(file,de,pr,f,FE,FS,f0)\n",
    "        f1.write(file0+\" \"+file1+\" \"+str(de)+\" \"+str(V1)+\" \"+str(E1)+ \"\\n\")   \n",
    "f1.close()\n",
    "end = time.time()\n",
    "curr_time = (end - start)   \n",
    "print(\"Total program time: {:5.2f} [s]\".format(curr_time))"
   ]
  },
  {
   "cell_type": "markdown",
   "metadata": {
    "scrolled": true
   },
   "source": [
    "### Creation of the .off file of the complex, ligand and protein for 1BBZ and 1SE0"
   ]
  },
  {
   "cell_type": "code",
   "execution_count": null,
   "metadata": {},
   "outputs": [],
   "source": [
    "#Reading the text file.\n",
    "LG = ['L1SE0','1SE0','1SE0-L','L1BBZ','1BBZ','1BBZ-L']\n",
    "\n",
    "#Code to generate surface meshes.\n",
    "start = time.time()\n",
    "LG1 = ['R3','R15','R0']\n",
    "f1=open(\"Informacion_Mallas_Superficiales_Moleculas_de_Union_2.txt\",\"w\")\n",
    "for i in range(len(LG)):\n",
    "    file0 = LG[i]      \n",
    "    for j in range(len(LG1)):\n",
    "        file1 = LG1[j]\n",
    "        if file1=='R0':\n",
    "            txt=''\n",
    "        else:\n",
    "            txt=file1\n",
    "        file = file0+txt   #filename in pqr text format. \n",
    "        de = 8             #density(msms) or length(nanoshaper).\n",
    "        pr = 1.5           #test radio.\n",
    "        f = 'n'            #method to create the mesh 'm'(msms) or 'n'(nanoshaper).\n",
    "        FE = 'Binding_Energy/PQR2/'       #Path where the pqr is.\n",
    "        FS = 'Binding_Energy/Mallas_S2/'  #Path to save the mesh.\n",
    "        f0 = 'D'+str(de)   #Name optional. If it is '', the txt is kept.\n",
    "        print(i,file,de)  \n",
    "        V1,E1 = MallaSuperficial(file,de,pr,f,FE,FS,f0)\n",
    "        f1.write(file0+\" \"+file1+\" \"+str(de)+\" \"+str(V1)+\" \"+str(E1)+ \"\\n\")   \n",
    "f1.close()\n",
    "end = time.time()\n",
    "curr_time = (end - start)   \n",
    "print(\"Total program time: {:5.2f} [s]\".format(curr_time))"
   ]
  },
  {
   "cell_type": "code",
   "execution_count": null,
   "metadata": {},
   "outputs": [],
   "source": []
  }
 ],
 "metadata": {
  "kernelspec": {
   "display_name": "Python 3",
   "language": "python",
   "name": "python3"
  },
  "language_info": {
   "codemirror_mode": {
    "name": "ipython",
    "version": 3
   },
   "file_extension": ".py",
   "mimetype": "text/x-python",
   "name": "python",
   "nbconvert_exporter": "python",
   "pygments_lexer": "ipython3",
   "version": "3.8.6"
  }
 },
 "nbformat": 4,
 "nbformat_minor": 4
}
